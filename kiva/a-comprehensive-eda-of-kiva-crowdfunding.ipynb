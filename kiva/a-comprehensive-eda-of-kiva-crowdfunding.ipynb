{
 "cells": [
  {
   "cell_type": "markdown",
   "metadata": {
    "_cell_guid": "8d9dddc5-d23d-4a7d-aaca-de81b40eef47",
    "_uuid": "d73a6201ce1f94e97bd459f5aa5e6f7114e9ceb3"
   },
   "source": [
    "![Title](https://cdn.greenhouse.io/external_greenhouse_job_boards/logos/000/006/746/original/kiva_logo_tag_green.png?1475791760)"
   ]
  },
  {
   "cell_type": "markdown",
   "metadata": {
    "_cell_guid": "c43b248e-10fa-40e9-af3b-e962ac30533d",
    "_uuid": "022761ce394e513f7b8ed6fa51e845468da4fb26"
   },
   "source": [
    "This Kernel takes a look at Kiva and does an exploratory analysis of it. \n",
    "\n",
    "# Goals\n",
    "There are two main goals of this kernel. \n",
    "* Learn and apply tricks to work with \n",
    "\n",
    "# About Kiva\n",
    "[Kiva](https://www.kaggle.com/kiva) is an online crowdfunding platform to extend financial services to poor and financially excluded people around the world. Kiva lenders have provided over 1 billion dollars in loans to over 2 million people. To set investment priorities, help inform lenders, and understand their target communities, knowing the level of poverty of each borrower is critical. However, this requires inference based on a limited set of information for each borrower."
   ]
  },
  {
   "cell_type": "code",
   "execution_count": 1,
   "metadata": {
    "_cell_guid": "b1076dfc-b9ad-4769-8c92-a6c4dae69d19",
    "_kg_hide-input": true,
    "_uuid": "8f2839f25d086af736a60e9eeb907d3b93b6e0e5"
   },
   "outputs": [],
   "source": [
    "# This Python 3 environment comes with many helpful analytics libraries installed\n",
    "# It is defined by the kaggle/python docker image: https://github.com/kaggle/docker-python\n",
    "# For example, here's several helpful packages to load in \n",
    "\n",
    "import numpy as np # linear algebra\n",
    "import pandas as pd # data processing, CSV file I/O (e.g. pd.read_csv)\n",
    "\n",
    "\n",
    "# import pyplot. \n",
    "import matplotlib.pyplot as plt\n",
    "\n",
    "## in order to show more columns. \n",
    "pd.options.display.max_columns = 999\n",
    "\n",
    "# Any results you write to the current directory are saved as output.a"
   ]
  },
  {
   "cell_type": "code",
   "execution_count": 2,
   "metadata": {
    "_cell_guid": "b37ddf9c-0bcc-4d96-9104-806ff71cfdc4",
    "_kg_hide-input": true,
    "_uuid": "c394d6f1c4a8f5efed4c9ff76f6852c9217d7209"
   },
   "outputs": [
    {
     "name": "stdout",
     "output_type": "stream",
     "text": [
      "['data-science-for-good-kiva-crowdfunding']\n"
     ]
    }
   ],
   "source": [
    "# countries = pd.read_csv('../input/countries-of-the-world/countries of the world.csv')\n",
    "\n",
    "## From Data Science for good: Kiva funding. \n",
    "kiva_loans = pd.read_csv('../input/data-science-for-good-kiva-crowdfunding/kiva_loans.csv')\n",
    "loan_themes = pd.read_csv('../input/data-science-for-good-kiva-crowdfunding/loan_themes_by_region.csv')\n",
    "# mpi_region_locations = pd.read_csv('../input/data-science-for-good-kiva-crowdfunding/kiva_mpi_region_locations.csv')\n",
    "theme_id = pd.read_csv('../input/data-science-for-good-kiva-crowdfunding/loan_theme_ids.csv')\n",
    "\n",
    "# ## From additional data sources. \n",
    "# country_stats = pd.read_csv('../input/additional-kiva-snapshot/country_stats.csv')\n",
    "# #all_loans = pd.read_csv('../input/additional-kiva-snapshot/loans.csv')\n",
    "# lenders = pd.read_csv('../input/additional-kiva-snapshot/lenders.csv')\n",
    "# loan_coords = pd.read_csv('../input/additional-kiva-snapshot/loan_coords.csv')\n",
    "# locations = pd.read_csv('../input/additional-kiva-snapshot/locations.csv')\n",
    "\n",
    "# ##mpi\n",
    "# mpi_national = pd.read_csv('../input/mpi/MPI_national.csv')\n",
    "# mpi_subnational = pd.read_csv('../input/mpi/MPI_subnational.csv')\n",
    "\n",
    "# #all_data = [kiva_loans, loan_themes, mpi_region_locations, theme_id, country_stats, loans, lenders, loan_coords, locations]\n",
    "# # Input data files are available in the \"../input/\" directory.\n",
    "# For example, running this (by clicking run or pressing Shift+Enter) will list the files in the input directory\n",
    "import os\n",
    "print(os.listdir(\"../input\"))"
   ]
  },
  {
   "cell_type": "code",
   "execution_count": null,
   "metadata": {
    "_cell_guid": "13d46e67-e412-4fa8-b59a-cf5b5619664b",
    "_kg_hide-input": true,
    "_uuid": "340a749d18c20e6667150d4d871db1d73a1bdbdc"
   },
   "outputs": [],
   "source": [
    "## Renaming the columns just how I want it\n",
    "loan_themes.rename(columns={'Field Partner Name':'field_partner_name',\n",
    "                            'Loan Theme ID':'loan_theme_id',\n",
    "                            'Loan Theme Type':'loan_theme_type', \n",
    "                            'Partner ID':'partner_id'}, inplace = True)\n",
    "## renaming the columns just how I like it\n",
    "theme_id.columns = ['id','loan_theme_id','loan_theme_type','partner_id']\n",
    "mpi_subnational.columns = ['ISO_country_code',\n",
    "                           'Country',\n",
    "                           'Sub_national_region',\n",
    "                           'world_region',\n",
    "                           'MPI_national',\n",
    "                           'MPI_regional',\n",
    "                           'Headcount_ratio_regional',\n",
    "                           'intensit_of_deprivation_regional']\n"
   ]
  },
  {
   "cell_type": "code",
   "execution_count": null,
   "metadata": {},
   "outputs": [],
   "source": [
    "kiva_loans.head()"
   ]
  },
  {
   "cell_type": "code",
   "execution_count": null,
   "metadata": {},
   "outputs": [],
   "source": [
    "loan_themes.head()"
   ]
  },
  {
   "cell_type": "code",
   "execution_count": null,
   "metadata": {},
   "outputs": [],
   "source": [
    "mpi_region_locations.head()"
   ]
  },
  {
   "cell_type": "markdown",
   "metadata": {},
   "source": [
    "# Reducing Memory"
   ]
  },
  {
   "cell_type": "code",
   "execution_count": null,
   "metadata": {
    "_kg_hide-input": true
   },
   "outputs": [],
   "source": [
    "# We're going to be calculating memory usage a lot,\n",
    "# so we'll create a function to save us some time!\n",
    "def mem_usage(pandas_obj):\n",
    "    if isinstance(pandas_obj,pd.DataFrame):\n",
    "        usage_b = pandas_obj.memory_usage(deep=True).sum()\n",
    "    else: # we assume if not a df it's a series\n",
    "        usage_b = pandas_obj.memory_usage(deep=True)\n",
    "    usage_mb = usage_b / 1024 ** 2 # convert bytes to megabytes\n",
    "    return \"{:03.2f} MB\".format(usage_mb)\n",
    "\n",
    "# We’ll write a loop to iterate over each object column, \n",
    "# check if the number of unique values is more than 50%, \n",
    "# and if so, convert it to the category atype.\n",
    "def reduce_by_category_type(df):\n",
    "    converted_obj = pd.DataFrame()\n",
    "    for col in df.columns:\n",
    "        num_unique_values = len(df[col].unique())\n",
    "        num_total_values = len(df[col])\n",
    "        if num_unique_values / num_total_values < 0.5 and df[col].dtype == 'object':\n",
    "            converted_obj.loc[:,col] = df[col].astype('category')\n",
    "        else:\n",
    "            converted_obj.loc[:,col] = df[col]\n",
    "    return converted_obj"
   ]
  },
  {
   "cell_type": "code",
   "execution_count": null,
   "metadata": {
    "_kg_hide-input": true
   },
   "outputs": [],
   "source": [
    "kiva_loans = reduce_by_category_type(kiva_loans)\n",
    "loan_coords = reduce_by_category_type(loan_coords)\n",
    "loan_themes = reduce_by_category_type(loan_themes)\n",
    "\n",
    "mpi_national = reduce_by_category_type(mpi_national)\n",
    "\n",
    "mpi_region_locations  = reduce_by_category_type(mpi_region_locations)\n",
    "\n",
    "mpi_subnational  = reduce_by_category_type(mpi_subnational)\n",
    "\n",
    "theme_id = reduce_by_category_type(theme_id)"
   ]
  },
  {
   "cell_type": "markdown",
   "metadata": {
    "_cell_guid": "c39d6ca8-aba7-4bbb-a9d1-08da2716ede1",
    "_uuid": "824d61fcae76492f2f64da5926ccc87d0df30f1a"
   },
   "source": [
    "## 6.1 Countries with most loans vs Amounts "
   ]
  },
  {
   "cell_type": "code",
   "execution_count": null,
   "metadata": {
    "_cell_guid": "81327e3e-d538-4322-95b1-725626b24d99",
    "_kg_hide-input": true,
    "_uuid": "f64dc58cfb12777be9ef5a0952218ca15e5939b2"
   },
   "outputs": [],
   "source": [
    "import plotly.graph_objects as go\n",
    "from plotly.subplots import make_subplots\n",
    "counts = go.Bar(\n",
    "    y=kiva_loans.country.value_counts().head(20).sort_values(ascending = True).index,\n",
    "    x=kiva_loans.country.value_counts().head(20).sort_values(ascending = True).values,\n",
    "    orientation = 'h',\n",
    "    #xaxis = 'Count'\n",
    ")\n",
    "\n",
    "temp = kiva_loans.groupby(['country'])['funded_amount'].sum().sort_values(ascending = False).head(20)\n",
    "\n",
    "donation_amounts = go.Bar(\n",
    "    y=temp.sort_values(ascending = True).index,\n",
    "    x=temp.sort_values(ascending = True).values,\n",
    "    orientation = 'h',\n",
    ")\n",
    "\n",
    "fig = make_subplots(rows=1, # row #'s\n",
    "                          cols=2, # column #'s\n",
    "                          #specs=[[{'colspan': 2}, None], [{}, {}]],## distribution of chart spacing\n",
    "                          #shared_yaxes=True, \n",
    "                          subplot_titles = [\"Countries with Most Loans\", 'Countries with Most Funded Amounts']);\n",
    "#fig.append_trace(data, 1,1);##fig.append_trace(data1,raw #,col #);\n",
    "fig.append_trace(counts,1,1);\n",
    "fig.append_trace(donation_amounts,1,2);\n",
    "fig['layout']['yaxis1'].update(title = 'Country', showgrid = False);                      \n",
    "#fig['layout']['yaxis3'].update(title = 'Country')\n",
    "\n",
    "fig['layout']['xaxis1'].update(title = '# of loans')\n",
    "fig['layout']['xaxis2'].update(title = 'Amount($)')\n",
    "#fig['layout']['xaxis3'].update(title = 'Count', type = 'log)\n",
    "\n",
    "fig['layout'].update(height = 800,margin = dict(l = 100,), showlegend = False, title = 'Countries with Most Loan Counts VS Funded Amounts');\n",
    "#fig.layout.update(title = 'testing')\n",
    "fig.show()"
   ]
  },
  {
   "cell_type": "markdown",
   "metadata": {
    "_cell_guid": "8e152b73-f6b7-4b54-bdbf-e559a9ad7a38",
    "_uuid": "f606481d51ed3843c3aee9b1ffe31bba6ee624ef"
   },
   "source": [
    "We are looking at the top 20 countries with most loans (left) and most funded amounts (right). **Philippines** is the country with highest loan counts**(160,441)** and highest funding amount of** \\$ 54,47,638**. **Kenya** is second on the line in both of these criteria with approximately **76,000** loans and **$32,000** fundings. Some other countries that are in the top for both of these criteria are **El Salvador, Peru, Cambodia, Colombia, Paraguay, Uganda, and Ecuador.** Most of these countries are located in **South America** and a few from **Asia and Africa**. "
   ]
  },
  {
   "cell_type": "markdown",
   "metadata": {
    "_cell_guid": "ce9cef0b-c894-4ed0-890d-1370b4af63ba",
    "_uuid": "717a993feb3a00885284bd60711c9f2d6910b8ba"
   },
   "source": [
    "## Region with most loans vs Amounts "
   ]
  },
  {
   "cell_type": "code",
   "execution_count": null,
   "metadata": {
    "_cell_guid": "4efc4f42-b399-4f5e-9227-8ca526e70b5a",
    "_kg_hide-input": true,
    "_uuid": "cdf46f246311aea289f3ee1495fa4a2c7eae6baa"
   },
   "outputs": [],
   "source": [
    "kiva_loans.replace(\"CUSCO\", \"Cusco\",inplace=True)\n",
    "\n",
    "counts = go.Bar(\n",
    "    y=kiva_loans.region.value_counts().head(20).sort_values(ascending = True).index,\n",
    "    x=kiva_loans.region.value_counts().head(20).sort_values(ascending = True).values,\n",
    "    orientation = 'h',\n",
    "    #xaxis = 'Count'\n",
    ")\n",
    "\n",
    "temp = kiva_loans.groupby(['region'])['funded_amount'].sum().sort_values(ascending = False).head(20)\n",
    "\n",
    "donation_amounts = go.Bar(\n",
    "    y=temp.sort_values(ascending = True).index,\n",
    "    x=temp.sort_values(ascending = True).values,\n",
    "    orientation = 'h',\n",
    ")\n",
    "\n",
    "fig = make_subplots(rows=1, # row #'s\n",
    "                          cols=2, # column #'s\n",
    "                          #specs=[[{'colspan': 2}, None], [{}, {}]],## distribution of chart spacing\n",
    "                          #shared_yaxes=True, \n",
    "                          subplot_titles = [\"Region with Most Loans\", 'Region with Most Funded Amounts']);\n",
    "#fig.append_trace(data, 1,1);##fig.append_trace(data1,raw #,col #);\n",
    "fig.append_trace(counts,1,1);\n",
    "fig.append_trace(donation_amounts,1,2);\n",
    "fig['layout']['yaxis1'].update(title = 'Region', showgrid = False);                      \n",
    "#fig['layout']['yaxis3'].update(title = 'Country')\n",
    "\n",
    "fig['layout']['xaxis1'].update(title = '# of loans')\n",
    "fig['layout']['xaxis2'].update(title = 'Amount($)')\n",
    "#fig['layout']['xaxis3'].update(title = 'Count', type = 'log)\n",
    "\n",
    "fig['layout'].update(height = 1000,margin = dict(l=150,), showlegend = False, title = 'Regions with Most Loan Counts VS Funded Amounts');\n",
    "#fig.layout.update(title = 'testing')\n",
    "fig.show()"
   ]
  },
  {
   "cell_type": "code",
   "execution_count": null,
   "metadata": {
    "_kg_hide-input": true,
    "_uuid": "3406b5fea223c1201305630bd8bd89df94c3ef88"
   },
   "outputs": [],
   "source": [
    "feature = \"region\"\n",
    "temp = pd.DataFrame(round(kiva_loans[feature].value_counts(dropna = False, normalize=True)*100,2)).reset_index().rename(columns = {'index':feature,feature:\"Percentage of Total\"})\n",
    "temp.dropna(inplace=True)\n",
    "temp = temp.head(10)\n",
    "print(\" {} \".format(temp.columns[1]).center(40,\"*\"))\n",
    "#print (\"***** CompanySize *****\".center(60, '*') )\n",
    "\n",
    "for a, b in temp.itertuples(index=False):\n",
    "    print(\"{}% loans are given to {}.\".format(b, a))\n",
    "print ('#####')\n",
    "#print ('27.64 participants did not share an answer for this question')\n",
    "#print (\"Let's find out what they do..\")\n",
    "######\n",
    "temp = pd.DataFrame(kiva_loans.groupby(['region'])['funded_amount'].sum().sort_values(ascending = False).head(20)).reset_index().rename(columns = {'index':feature,feature:\"Percentage of Total Loan\"})\n",
    "temp.dropna(inplace=True)\n",
    "temp = temp.head(10)\n",
    "print(\" {} \".format(temp.columns[1]).center(40,\"*\"))\n",
    "#print (\"***** CompanySize *****\".center(60, '*') )\n",
    "\n",
    "for a, b in temp.itertuples(index=False):\n",
    "    print(\"{} loans are given to {}.\".format(b, a))\n",
    "#print ('#####')\n",
    "#print ('27.64 participants did not share an answer for this question')\n",
    "#print (\"Let's find out what they do..\")"
   ]
  },
  {
   "cell_type": "markdown",
   "metadata": {
    "_cell_guid": "b28bdeae-eb84-4c3e-b131-623b944bc481",
    "_uuid": "725ca0ddb0ec95850b7186a5ac1df4bb6d3b57ac"
   },
   "source": [
    "## Top Sectors with Most Loans "
   ]
  },
  {
   "cell_type": "code",
   "execution_count": null,
   "metadata": {
    "_cell_guid": "57544ba6-7910-4d0f-933b-f855323e5df8",
    "_kg_hide-input": true,
    "_uuid": "7800672721688be1b9cce0b23b7efc5f9e1982a9"
   },
   "outputs": [],
   "source": [
    "temp = kiva_loans.sector.value_counts()\n",
    "\n",
    "data = [go.Bar(\n",
    "    x=temp.index,\n",
    "    y=temp.values,\n",
    "    #width = [0.9,0.9,0.9,0.7,0.7,0.7,0.7,0.7,0.7,0.7],## customizing the width.\n",
    "    marker = dict(\n",
    "        #color=['green', 'green', 'green']\n",
    "    ),\n",
    "    )]\n",
    "layout = go.Layout(\n",
    "    title = \"Sectors with Highest Loan Counts\",\n",
    "\n",
    "    xaxis = dict(\n",
    "        title = \"Sectors\",\n",
    "        showgrid = True\n",
    "    ),\n",
    "    yaxis = dict( \n",
    "        title = '# of loans',\n",
    "        showgrid = True,\n",
    "        tickformat = ',d'\n",
    "    )\n",
    ")\n",
    "fig = go.Figure(data = data, layout = layout)\n",
    "fig.show()\n",
    "\n",
    "#Alternative way of doing the same thing but really easy.\n",
    "#sectors = kiva_loans.sector.value_counts().head(30)\n",
    "#sectors.iplot(kind='bar', xTitle = 'State name', yTitle = \"Count\", title = 'Top Donor States')"
   ]
  },
  {
   "cell_type": "markdown",
   "metadata": {
    "_cell_guid": "00efa750-9374-4743-8e81-b890a9ee7d4f",
    "_uuid": "73c272eafffdd13b72897b7ba45d0bf3cd50e7ed"
   },
   "source": [
    "**Agriculture, Food and Retail** are the top sectors with most loan counts."
   ]
  },
  {
   "cell_type": "markdown",
   "metadata": {
    "_cell_guid": "bf22905e-fd90-42d5-8b06-9b4403d15869",
    "_uuid": "55e45be0a8f607ae5ac106207eabd9ac4a08ac53"
   },
   "source": [
    "## Top Sectors with Most Fundings"
   ]
  },
  {
   "cell_type": "code",
   "execution_count": null,
   "metadata": {
    "_cell_guid": "8ce8032d-b55f-456b-995d-e13d04ce46f7",
    "_kg_hide-input": true,
    "_uuid": "3d7397c7c7bb9e73e809f286333bbccc983f508f"
   },
   "outputs": [],
   "source": [
    "temp = kiva_loans.groupby(['sector'])['funded_amount'].sum().sort_values(ascending= False)\n",
    "data = go.Bar(\n",
    "    x = temp.index,\n",
    "    y = temp.values\n",
    ")\n",
    "fig = go.Figure(data = data)\n",
    "fig.layout.xaxis.title = 'Subject Subcategory Type'\n",
    "fig.layout.yaxis.title = 'Project Count'\n",
    "# fig.update_layout(template = 'plotly_dark')\n",
    "fig.show()\n",
    "\n"
   ]
  },
  {
   "cell_type": "markdown",
   "metadata": {
    "_cell_guid": "6dd6350f-cedd-4c6e-b560-5be798706a89",
    "_uuid": "2d50b50ed2ab33496e7c396c5ffc476a67728a9c"
   },
   "source": [
    "Similar to previous chart **Agriculture, Food and Retail** are the top sectors with most loan amounts."
   ]
  },
  {
   "cell_type": "markdown",
   "metadata": {
    "_cell_guid": "fe09bb20-4fa1-4e0c-8cce-d3146ccddf3f",
    "_uuid": "4168b757b5fe9d7a4c00f1685ee6c32fc80dfa95"
   },
   "source": [
    "## Top Activities  "
   ]
  },
  {
   "cell_type": "code",
   "execution_count": null,
   "metadata": {
    "_cell_guid": "52a8bb97-792c-4eab-9c9b-bd639efd81b3",
    "_kg_hide-input": true,
    "_uuid": "a104df16937637bf66499676b0006a9924c834de"
   },
   "outputs": [],
   "source": [
    "temp = kiva_loans.activity.value_counts().head(20)\n",
    "\n",
    "data = [go.Bar(\n",
    "    x=temp.index,\n",
    "    y=temp.values,\n",
    "    #width = [1.1, 1.1],## customizing the width.\n",
    "    marker = dict(\n",
    "        #color=['green', 'green']\n",
    "    ),\n",
    "    )]\n",
    "layout = go.Layout(\n",
    "    title = \"Top activities of Loans\",\n",
    "    xaxis = dict(\n",
    "        title = \"Activities\"\n",
    "    ),\n",
    "    yaxis = dict( \n",
    "        title = '# of loans', \n",
    "        tickformat = ',d'\n",
    "    )\n",
    ")\n",
    "fig = go.Figure(data = data, layout = layout)\n",
    "fig.show()"
   ]
  },
  {
   "cell_type": "markdown",
   "metadata": {
    "_cell_guid": "48baad2e-6129-4f4b-8662-6d4432840e37",
    "_uuid": "8aac7ed9898be008ecb23aad49891cf2d2f49af5"
   },
   "source": [
    "**Farming & General Store** are the top activities done by loan borrowers. "
   ]
  },
  {
   "cell_type": "markdown",
   "metadata": {
    "_cell_guid": "84d99b55-35ef-470b-adcc-797f49f92ffd",
    "_uuid": "24e6a77c55c487809a2a64dd66b373af89152910"
   },
   "source": [
    "## Borrower's repayment interval "
   ]
  },
  {
   "cell_type": "code",
   "execution_count": null,
   "metadata": {
    "_cell_guid": "fcab8461-76e9-483b-94d1-d09805e2ca10",
    "_kg_hide-input": true,
    "_uuid": "49fe205dfc3a05d3f3ccf90def177b2a6a0941fe"
   },
   "outputs": [],
   "source": [
    "temp = kiva_loans.repayment_interval.value_counts()\n",
    "\n",
    "labels = temp.index\n",
    "values = temp.values\n",
    "colors = ['#FEBFB3', '#E1396C', '#96D38C', '#D0F9B1']\n",
    "\n",
    "data = go.Pie(labels=labels, values=values,\n",
    "               hoverinfo='label+percent', textinfo='percent',\n",
    "               textfont=dict(size=20),\n",
    "               marker=dict(colors=colors,\n",
    "                           line=dict(color='#000000', width=2)))\n",
    "layout = go.Layout(\n",
    "    title = \"Pie Chart for Repayment Interval\",\n",
    ")\n",
    "\n",
    "fig = go.Figure(data = [data], layout = layout)\n",
    "fig.show()"
   ]
  },
  {
   "cell_type": "markdown",
   "metadata": {
    "_cell_guid": "b449dfad-8248-4880-b858-b32dcea25e8c",
    "_uuid": "6e9282ceb831140eeb0f05abaf1d38d9e5f265c4"
   },
   "source": [
    "**More than half of the payment intervals are monthly**, there are also irregular, bullet and small percentage of weekly payments.**"
   ]
  },
  {
   "cell_type": "markdown",
   "metadata": {
    "_cell_guid": "82acdba1-94dc-4de0-a2a8-dd50a5f8f138",
    "_uuid": "188e7ff9c2b78da587a89f973c8b5d593fb3a78e"
   },
   "source": [
    "## 6.7 Terms in Months"
   ]
  },
  {
   "cell_type": "code",
   "execution_count": null,
   "metadata": {
    "_cell_guid": "2075fffa-9154-4011-a4cd-6b6326e70af4",
    "_kg_hide-input": true,
    "_uuid": "4e2014585f2b3a2d006d615b9aef758ad4d6cce5"
   },
   "outputs": [],
   "source": [
    "## Most Loans Period in terms of Months.\n",
    "\n",
    "temp = kiva_loans.term_in_months.value_counts().head(25)\n",
    "\n",
    "data = [go.Bar(\n",
    "    x=temp.index,\n",
    "    y=temp.values,\n",
    "    #width = [1.1, 1.1],## customizing the width.\n",
    "    marker = dict(\n",
    "        color=['green', 'green', 'green']),\n",
    "    )]\n",
    "layout = go.Layout(\n",
    "    title = \"Loan period in terms of Months\",\n",
    "    xaxis = dict(\n",
    "        title = \"Activities\"\n",
    "    ),\n",
    "    yaxis = dict( \n",
    "        title = 'Loans', \n",
    "        tickformat = ',d'\n",
    "    )\n",
    ")\n",
    "fig = go.Figure(data = data, layout = layout)\n",
    "fig.show()"
   ]
  },
  {
   "cell_type": "markdown",
   "metadata": {
    "_cell_guid": "40a0b6c9-ed3e-4aab-b648-fba258d13fdc",
    "_uuid": "86358250e511a11d251f40373006e53d7cc79186"
   },
   "source": [
    "Most of the loan payments are constructed to last for either **8 month or 14 months.**"
   ]
  },
  {
   "cell_type": "markdown",
   "metadata": {
    "_cell_guid": "f3d2edc9-9880-4c3a-bf68-4988d0f51d70",
    "_uuid": "57efac0cc0af591a0198114d55992b7518565c90"
   },
   "source": [
    "## 6.8 Top Uses of the Loans"
   ]
  },
  {
   "cell_type": "code",
   "execution_count": null,
   "metadata": {
    "_cell_guid": "2a440b09-dbb3-48bd-b97d-87a0c3fae3bc",
    "_kg_hide-input": true,
    "_uuid": "be1b85bfdce6a70f76acd7f6148305f76b6f85e8"
   },
   "outputs": [],
   "source": [
    "## I noticed that some of the data is inconsistant and are basically repeated because of upper/lower case difference. \n",
    "kiva_loans.use = kiva_loans.use.str.lower()\n",
    "## Also I stumbled upon lines where the only difference is a \".\". So, I got rid of the difference. \n",
    "kiva_loans.use = kiva_loans.use.str.strip('.')\n",
    "## Its always a good idea to get rid of any extra white spaces. \n",
    "kiva_loans.use = kiva_loans.use.str.strip()\n",
    "kiva_loans.use = kiva_loans.use.str.strip('.')\n",
    "\n",
    "##There are different version so saying the same thing. therefore I have decided to merge them all together. \n",
    "kiva_loans.replace('to buy a water filter to provide safe drinking water for their family', 'to buy a water filter to provide safe drinking water for his/her/their family', inplace = True)\n",
    "kiva_loans.replace('to buy a water filter to provide safe drinking water for her family', 'to buy a water filter to provide safe drinking water for his/her/their family', inplace = True)\n",
    "kiva_loans.replace('to buy a water filter to provide safe drinking water for his family', 'to buy a water filter to provide safe drinking water for his/her/their family', inplace = True)\n",
    "kiva_loans.replace('to buy a water filter to provide safe drinking water for the family', 'to buy a water filter to provide safe drinking water for his/her/their family', inplace = True)\n",
    "kiva_loans.replace('to buy a water filter, to provide safe drinking water for her family', 'to buy a water filter to provide safe drinking water for his/her/their family', inplace = True)\n",
    "kiva_loans.replace('to buy a water filter, to provide safe drinking water for their family', 'to buy a water filter to provide safe drinking water for his/her/their family', inplace = True)\n",
    "kiva_loans.replace('to buy a water filter to provide safe drinking water for their families', 'to buy a water filter to provide safe drinking water for his/her/their family', inplace = True)\n",
    "kiva_loans.replace('to purchase a water filter to provide safe drinking water for the family', 'to buy a water filter to provide safe drinking water for his/her/their family', inplace = True)\n",
    "kiva_loans.replace('to buy a water filter to provide safe drinking water', 'to buy a water filter to provide safe drinking water for his/her/their family', inplace = True)\n",
    "kiva_loans.replace('to purchase a water filter to provide safe drinking water', 'to buy a water filter to provide safe drinking water for his/her/their family', inplace = True)\n",
    "kiva_loans.replace('to buy a water filter', 'to buy a water filter to provide safe drinking water for his/her/their family', inplace = True)\n",
    "kiva_loans.replace('to buy a water filter in order to provide safe drinking water for their family', 'to buy a water filter to provide safe drinking water for his/her/their family', inplace = True)\n",
    "\n",
    "\n"
   ]
  },
  {
   "cell_type": "code",
   "execution_count": null,
   "metadata": {
    "_cell_guid": "02d3c096-cc81-4d92-875b-7540d5e14f2e",
    "_kg_hide-input": true,
    "_uuid": "1be7299a2ceeceea20bee4128026696e66a84954"
   },
   "outputs": [],
   "source": [
    "##Plotly graphs stats here\n",
    "temp = kiva_loans.use.value_counts().head(20)\n",
    "\n",
    "data = [go.Bar( x=temp.index,\n",
    "    y=temp.values,\n",
    "    width = [1.0,0.7,0.7,0.7,0.7,0.7,0.7,0.7,0.7,0.7],## customizing the width.\n",
    "    marker = dict(\n",
    "        color=['rgb(0, 200, 200)', 'black','black','black','black','black','black','black','black','black','black','black','black']),\n",
    "    )]\n",
    "layout = go.Layout(\n",
    "    title = \"Top Uses of the Loans\",\n",
    "    height = 800,\n",
    "    margin=go.layout.Margin(b =340, r = 250),## this is so we are able to read the labels in xaxis. 'b' stands for bottom, similarly left(l), \n",
    "                            ##right(r),top(t) \n",
    "    xaxis = dict(\n",
    "        title = \"Uses\"\n",
    "    ),\n",
    "    yaxis = dict( \n",
    "        title = 'Loans',\n",
    "        tickformat = ',d',\n",
    "\n",
    "    )\n",
    ")\n",
    "fig = go.Figure(data = data, layout = layout)\n",
    "fig.show()\n"
   ]
  },
  {
   "cell_type": "markdown",
   "metadata": {
    "_cell_guid": "2f6b437f-5e2b-401d-a612-fe7da50bb616",
    "_uuid": "f13313bec72d4136cf9c6bda39b410d6e490d35c"
   },
   "source": [
    "It is spectacular to see that, almost **16,000 people took loans just to buy filter so that they can get access to safe drinking water.** I am interested in finding out which countries these peoples are from."
   ]
  },
  {
   "cell_type": "markdown",
   "metadata": {
    "_uuid": "bade09ca17abface6514c14ab1c9fb77ec6f667d"
   },
   "source": [
    "### Countries where Loan was used to Buy Water Filter "
   ]
  },
  {
   "cell_type": "code",
   "execution_count": null,
   "metadata": {
    "_cell_guid": "d896fd5d-7f4c-4ff3-a02d-1ffeabc777ce",
    "_kg_hide-input": true,
    "_uuid": "f675f9021c03fc921f27ec3889a5fe60bab50152"
   },
   "outputs": [],
   "source": [
    "temp = kiva_loans[kiva_loans.use == \"to buy a water filter to provide safe drinking water for his/her/their family\"].country.value_counts()\n",
    "\n",
    "data = go.Bar(\n",
    "    x = temp.index,\n",
    "    y = temp.values\n",
    ")\n",
    "fig = go.Figure(data = data)\n",
    "fig.layout.xaxis.title = 'Subject Subcategory Type'\n",
    "fig.layout.yaxis.title = 'Project Count'\n",
    "# fig.update_layout(template = 'plotly_dark')\n",
    "fig.show()"
   ]
  },
  {
   "cell_type": "markdown",
   "metadata": {
    "_cell_guid": "367c80d6-16a2-4493-9d18-9255380b5cfe",
    "_uuid": "263c9214864957c9b79bdca18350e50276493c39"
   },
   "source": [
    "It turns out that, most of the people who took loans to buy filter for safe drinking water are from Cambodia. That's quite interesting. Let's do a little research about this situation in Cambodia.  "
   ]
  },
  {
   "cell_type": "markdown",
   "metadata": {
    "_cell_guid": "5a6757a4-1b2d-4ba4-9842-5051827a88a0",
    "_uuid": "43c0a9a79e47846567269368cf84574fd6cf957a"
   },
   "source": [
    "### Loan uses in Cambodia"
   ]
  },
  {
   "cell_type": "code",
   "execution_count": null,
   "metadata": {
    "_cell_guid": "5cd332be-ac7c-4023-a3c0-4ebfdf73aee8",
    "_kg_hide-input": true,
    "_uuid": "ec0b3864df17739fc6b1cac0a76abacc44286e5b"
   },
   "outputs": [],
   "source": [
    "temp = kiva_loans[kiva_loans.country == 'Cambodia'].use.value_counts().head(20)\n",
    "\n",
    "data = [go.Bar(\n",
    "    x=temp.index,\n",
    "    y=temp.values,\n",
    "    width = [1.0,0.7,0.7,0.7,0.7,0.7,0.7,0.7,0.7,0.7],## customizing the width.,\n",
    "    marker = dict(\n",
    "        color=['rgb(0, 200, 200)']),\n",
    "    )]\n",
    "layout = go.Layout(\n",
    "    title = \"Top Uses of the Loans in Cambodia\",\n",
    "    height = 800,\n",
    "    margin=go.layout.Margin(b =350, r = 250),## this is so we are able to read the labels in xaxis. 'b' stands for bottom, similarly left(l), \n",
    "                            ##right(r),top(t) \n",
    "    xaxis = dict(\n",
    "        title = \"Uses\"\n",
    "    ),\n",
    "    yaxis = dict( \n",
    "        title = 'Loans',\n",
    "        tickformat = ',d',\n",
    "\n",
    "    )\n",
    ")\n",
    "fig = go.Figure(data = data, layout = layout)\n",
    "fig.show()"
   ]
  },
  {
   "cell_type": "code",
   "execution_count": null,
   "metadata": {
    "_kg_hide-input": true,
    "_uuid": "19d7dffac2edb4e24a06557ad02539ecb4ff013e"
   },
   "outputs": [],
   "source": [
    "temp = kiva_loans[kiva_loans.country == 'Cambodia'].use.value_counts().head(20)\n",
    "feature = \"use\"\n",
    "temp = pd.DataFrame(temp).reset_index().rename(columns = {'index':feature,feature:\"Total Loans\"})\n",
    "temp.dropna(inplace=True)\n",
    "temp = temp.head(10)\n",
    "print(\" {} \".format(temp.columns[1]).center(90,\"*\"))\n",
    "#print (\"***** CompanySize *****\".center(60, '*') )\n",
    "\n",
    "for a, b in temp.itertuples(index=False):\n",
    "    print(\"{} loans are given to {}.\".format(b, a))"
   ]
  },
  {
   "cell_type": "markdown",
   "metadata": {
    "_cell_guid": "63b4f395-9dd8-4c52-aa99-be1883213b7f",
    "_uuid": "631ab1257b740a16a949b12361c54a218fd49445"
   },
   "source": [
    "**Out of all the loans provided in Cambodia, ~45%(15,587) were taken by borrowers only to buy a filter for safe drinking water. This is one of the instances where KIVA is directly aiding lots of people to meet one of their most important basic needs. If you would like to know more about the water crisis in Cambodia, please click [here](https://water.org/our-impact/cambodia/) .**\n",
    "\n",
    "**Let's create a workcloud with all the loans taken by Cambodians...**"
   ]
  },
  {
   "cell_type": "markdown",
   "metadata": {
    "_uuid": "43ff93959ea826d47bf374ce776fd499713b1459"
   },
   "source": [
    "### Wordcloud of Loan uses in Cambodia"
   ]
  },
  {
   "cell_type": "code",
   "execution_count": null,
   "metadata": {
    "_cell_guid": "eb4f1e86-02dc-4f0c-93a8-705d0d37027c",
    "_kg_hide-input": true,
    "_uuid": "3a02be3d2165577f6020ee2df161d2378296258e"
   },
   "outputs": [],
   "source": [
    "from wordcloud import WordCloud\n",
    "\n",
    "loans_cambodia = kiva_loans[kiva_loans.country == 'Cambodia']\n",
    "names = loans_cambodia[\"use\"][~pd.isnull(kiva_loans[\"use\"])]\n",
    "#print(names)\n",
    "wordcloud = WordCloud(max_font_size=90, width=1000, height=300).generate(' '.join(names))\n",
    "plt.figure(figsize=(15,12))\n",
    "plt.imshow(wordcloud)\n",
    "plt.title(\"Uses of Loans Taken in Cambodia\", fontsize=35)\n",
    "plt.axis(\"off\")\n",
    "plt.show() "
   ]
  },
  {
   "cell_type": "markdown",
   "metadata": {
    "_cell_guid": "dce1bfeb-d4a5-472d-8023-aa3892d57f01",
    "_uuid": "56f05bf244d1b2c4f286ccfff9f9b12c017f3a17"
   },
   "source": [
    "**This word cloud looks a bit more intuitive and demonstrates meaningful necessity to purchase a filter for reliable drinking water in Cambodia.**\n",
    "\n",
    "**Cambodia** is just one of the numerous countries where people require support. I am curious about finding out where KIVA is exceptionally beneficial along with those realms where KIVA is nearly not that effective. I am also intrigued in finding out how Kiva contributors have preferred the projects they want to support with their money. Let's visualize some of the important features of a country that used to helps us to identify the growths of a countries development status like population and GDP per capita. After that we will dive deep into Human Development Index(HDI) which is an imporved version of rating a countries growth."
   ]
  },
  {
   "cell_type": "markdown",
   "metadata": {
    "_uuid": "c106bf7d3df15e92c62052ebef37c0d98e426042"
   },
   "source": [
    "## Population and all things\n",
    "### Population"
   ]
  },
  {
   "cell_type": "code",
   "execution_count": null,
   "metadata": {
    "_cell_guid": "8c97f829-1359-43fd-9ce4-461892b7b005",
    "_kg_hide-input": true,
    "_uuid": "b289af1a724446444b6c8d9df9580adca815461b"
   },
   "outputs": [],
   "source": [
    "data = [dict(\n",
    "        type='choropleth',\n",
    "        locations= country_stats.country_name,\n",
    "        locationmode='country names',\n",
    "        z=country_stats.population,\n",
    "        text=country_stats.country_name,\n",
    "#         colorscale='Red',\n",
    "        marker=dict(line=dict(width=0.7)),\n",
    "        colorbar=dict(\n",
    "#             autotick=False, \n",
    "            tickprefix='', \n",
    "            title='Polulations'),\n",
    ")]\n",
    "layout = dict(title = 'Population Map of the world',\n",
    "             geo = dict(\n",
    "            showframe = False,\n",
    "            showcoastlines = False,\n",
    "            projection = dict(\n",
    "#                 type = 'Mercatorodes'\n",
    "            )\n",
    "        ),)\n",
    "fig = go.Figure(data=data, layout=layout)\n",
    "fig.show()"
   ]
  },
  {
   "cell_type": "code",
   "execution_count": null,
   "metadata": {
    "_kg_hide-input": true,
    "_uuid": "da4ec8031091cf8581049eefaccade140d1cd7f8"
   },
   "outputs": [],
   "source": [
    "temp = country_stats[['country_name','population']].sort_values(by ='population', ascending = False).head(15)\n",
    "data = [go.Bar(\n",
    "    x = temp.country_name,\n",
    "    y = temp.population,\n",
    "    marker = dict(line = dict(width = 2))\n",
    ")]\n",
    "layout = go.Layout(\n",
    "    paper_bgcolor='rgb(243, 243, 200)',## asix and lebel background color\n",
    "    plot_bgcolor='rgb(243, 243, 200)', ## plot background color\n",
    "    title = 'Top Countries with most people',\n",
    "    xaxis =dict(title = 'Country'),\n",
    "    yaxis =dict(title = 'Amount of Population'),\n",
    "    margin = dict(b = 200)\n",
    "    \n",
    ")\n",
    "fig = go.Figure(data = data, layout =layout)\n",
    "fig.show()"
   ]
  },
  {
   "cell_type": "markdown",
   "metadata": {
    "_uuid": "58a23c65c5011a5df6880a5758265a4f02c1aad1"
   },
   "source": [
    "As expected **China and India** are the top populated countries followed by **United States.** However, my attention is geared towards **Pakistan, Nigeria, Bangladesh, Ethiopia and Philippines** from this list as they are some of the developing countries and managed to be a part of this chart. Let's see how these country stands in the *population below poverty line* scale."
   ]
  },
  {
   "cell_type": "markdown",
   "metadata": {
    "_uuid": "31aacb0298e4767b161421e446d92ef7f94c6ffc"
   },
   "source": [
    "### Top Populated Countries with Population density and Population Below Poverty Line Scale"
   ]
  },
  {
   "cell_type": "code",
   "execution_count": null,
   "metadata": {
    "_kg_hide-input": true,
    "_uuid": "23b044ae209193dd2005a70121d27787f4c89ebf"
   },
   "outputs": [],
   "source": [
    "countries.replace(\"Congo, Dem. Rep.\", 'Democratic Republic of the Congo', inplace=True)\n",
    "##\n",
    "countries.rename(columns = {'GDP ($ per capita)':\"GDP\"}, inplace = True)\n",
    "countries.rename(columns = {'Pop. Density (per sq. mi.)':\"pop_density_per_sq_mile\"}, inplace = True)\n",
    "countries.pop_density_per_sq_mile = countries.pop_density_per_sq_mile.apply(lambda x: int(x.replace(\",\",\"\")))\n",
    "countries.Country = countries.Country.apply(lambda x:x.strip())\n",
    "country_stats = country_stats.merge(countries[['Country',\"GDP\",'pop_density_per_sq_mile']], left_on ='country_name',right_on='Country', how='left')\n",
    "\n",
    "##"
   ]
  },
  {
   "cell_type": "code",
   "execution_count": null,
   "metadata": {
    "_kg_hide-input": true,
    "_uuid": "3a923119569abba5850de30e060d92d59991ce32"
   },
   "outputs": [],
   "source": [
    "temp = country_stats[['kiva_country_name','pop_density_per_sq_mile','population','population_below_poverty_line']].sort_values(by = 'population', ascending = False).head(14)\n",
    "for col in temp.columns:\n",
    "    temp[col] = temp[col].astype(str)\n",
    "# writing the text column\n",
    "temp['text'] = temp['kiva_country_name'] + '<br>' + 'Population Density(per sq/ml): ' + temp['pop_density_per_sq_mile'] + '<br>' + 'Total Populations: ' + temp['population'] + '<br>' + 'Population Below Poverty Line: ' + temp['population_below_poverty_line']\n",
    "# this is for the size part of the chart\n",
    "temp['pop_density_per_sq_mile'] = temp['pop_density_per_sq_mile'].astype(float)\n",
    "#states['text'] = states.apply(lambda x: (states['Donor State']+ '<br>' + \"Mean Donations:\" + states['Mean Donation Amount'] + '<br>' + \"Total Donors:\" + states['total_donors'] + \"<br\" + \"Total Donations:\" + states['Donation Amount']))\n",
    "#states.text = states.text.astype(str)\n",
    "temp['population_below_poverty_line'] = temp['population_below_poverty_line'].astype(float)\n",
    "trace0 = go.Scatter(\n",
    "    x=temp.population,\n",
    "    y=temp.population_below_poverty_line,\n",
    "    text = temp.text,\n",
    "    mode='markers',\n",
    "    marker = {\n",
    "            'color': temp.population_below_poverty_line.tolist(),\n",
    "            #'colorscale':\"RdYlGn\",\n",
    "            'size': (temp.pop_density_per_sq_mile/80).tolist(),\n",
    "            'showscale': False, \n",
    "            'line': dict(width=2, color='black')\n",
    "        }\n",
    ")\n",
    "layout = go.Layout(\n",
    "    paper_bgcolor='rgb(243, 243, 200)',## asix and lebel background color\n",
    "    plot_bgcolor='rgb(243, 243, 200)', ## plot background color\n",
    "    title = \"Population, Population Density and Population Below Poverty Line\",\n",
    "    height = 800,\n",
    "    xaxis = dict(\n",
    "        title = \"Population\"\n",
    "    ),\n",
    "    yaxis = dict(\n",
    "        title = \"Population Below Poverty Line\"\n",
    "    )\n",
    "\n",
    ")\n",
    "\n",
    "data = [trace0]\n",
    "fig = go.Figure(data = data, layout = layout)\n",
    "fig.show()"
   ]
  },
  {
   "cell_type": "markdown",
   "metadata": {
    "_uuid": "e511295cf23a6b64f7e948cc0966a6d8a0e16519"
   },
   "source": [
    "The big circle is the first thing to take my attention. Here the **size of the circle** represents the **population density** of each country while x and y-axis represent population and population below poverty line consecutively. That represents **Bangladesh** which is not only one of the countries with top populations but also one of the most densely populated countries in the world. In addition to that **Bangladesh** has a score of 31.5 in the *Population below poverty line* scale. Speaking of that scale, **Nigeria** is the poorest county with lots of people to appreciate assistance from KIVA. I am interested in looking into more in-depth about how KIVA is helping out the people in these two countries. But for now, let's see an overview of how other nations fall in the ***Population below poverty line* **scale."
   ]
  },
  {
   "cell_type": "markdown",
   "metadata": {
    "_cell_guid": "7f952562-2bf0-40dd-b64b-e4fa827d3327",
    "_uuid": "826ea10aaefee4bc98b414775db67cac2a5132be"
   },
   "source": [
    "### Population Below Poverty Line"
   ]
  },
  {
   "cell_type": "code",
   "execution_count": null,
   "metadata": {
    "_cell_guid": "d8d7525e-e3c7-4137-8f91-bf403e7e828d",
    "_kg_hide-input": true,
    "_uuid": "49d94f788fee4dc5be9a1824b9fafbcdf512ac5a"
   },
   "outputs": [],
   "source": [
    "data = [dict(\n",
    "        type='choropleth',\n",
    "        locations= country_stats.country_name,\n",
    "        locationmode='country names',\n",
    "        z=country_stats.population_below_poverty_line,\n",
    "        text=country_stats.country_name,\n",
    "        marker=dict(\n",
    "#             colorscale='Red',\n",
    "            line=dict(width=0.7)),\n",
    "        colorbar=dict(\n",
    "#             autotick=False, \n",
    "            tickprefix='', \n",
    "            title='Polulation<br>below<br>poverty<br>line'),\n",
    ")]\n",
    "layout = dict(title = 'Population Below Poverty Line',\n",
    "             geo = dict(\n",
    "            showframe = False,\n",
    "            showcoastlines = False,\n",
    "            projection = dict(\n",
    "#                 type = 'Mercatorodes'\n",
    "            )\n",
    "        ),)\n",
    "fig = go.Figure(data=data, layout=layout)\n",
    "fig.show()"
   ]
  },
  {
   "cell_type": "markdown",
   "metadata": {
    "_uuid": "4b2f49fc28b7e9376800a636369eed98afec861f"
   },
   "source": [
    "Most of the countries in **Africa** lives way below poverty line. aThis may be a good time to bring up GDP per capita since they are nege.Let's create a map for that as well. "
   ]
  },
  {
   "cell_type": "markdown",
   "metadata": {
    "_uuid": "e405a87464d81214e8b7a2e656db2f3e2d89b25e"
   },
   "source": [
    "### <a id=\"6.9.4\">6.9.4 GDP Per Capita</a>"
   ]
  },
  {
   "cell_type": "code",
   "execution_count": null,
   "metadata": {
    "_kg_hide-input": true,
    "_uuid": "d9a3ece7963bd66ed64c7b8218f8bf5c35209f1c"
   },
   "outputs": [],
   "source": [
    "temp = countries[['Country',\"GDP\"]].sort_values(by = 'GDP', ascending = False)\n",
    "data = [dict(\n",
    "        type='choropleth',\n",
    "        locations= temp.Country,\n",
    "        locationmode ='country names',\n",
    "        z=temp.GDP,\n",
    "        text=temp.Country,\n",
    "        colorscale='BuGn',\n",
    "        marker=dict(line=dict(width=0.7)),\n",
    "        colorbar=dict(\n",
    "#             autotick=False, \n",
    "            tickprefix='', title='GDP<br>Per<br>Capita'),\n",
    ")]\n",
    "layout = dict(title = 'World countries with polulations',\n",
    "             geo = dict(\n",
    "            showframe = False,\n",
    "            showcoastlines = False,\n",
    "            projection = dict(\n",
    "#                 type = 'Mercatorodes'\n",
    "            )\n",
    "        ),)\n",
    "fig = go.Figure(data=data, layout=layout)\n",
    "fig.show()"
   ]
  },
  {
   "cell_type": "markdown",
   "metadata": {
    "_uuid": "834bb76aedbff1305cc0dca96f8bdcbd42954e82"
   },
   "source": [
    "**North American, Austraila and European** countries are the one with highest GDP Per Capita. Meanwhile countries in **Africa and Asia** are the once with lowest GDP Per Capita. "
   ]
  },
  {
   "cell_type": "markdown",
   "metadata": {
    "_cell_guid": "44871133-db10-4e89-86be-6033614487d4",
    "_uuid": "c295f56b714328807bf70ff4a79e489cce50414a"
   },
   "source": [
    "### <a id=\"6.9.5\">6.9.5 Let's Combine All the Features</a>"
   ]
  },
  {
   "cell_type": "code",
   "execution_count": null,
   "metadata": {
    "_kg_hide-input": true,
    "_uuid": "8c465b35dd41964a99113f1d332f117a2dd28dde"
   },
   "outputs": [],
   "source": [
    "temp = country_stats[['kiva_country_name','pop_density_per_sq_mile',\"GDP\",'population','population_below_poverty_line']].sort_values(by = 'population', ascending = False).head(14)\n",
    "for col in temp.columns:\n",
    "    temp[col] = temp[col].astype(str)\n",
    "# writing the text column\n",
    "temp['text'] = temp['kiva_country_name'] + '<br>' +\"GDP Per Capita: \"+temp[\"GDP\"]+\"<br>\"+'Population Density(per sq/ml): ' + temp['pop_density_per_sq_mile'] + '<br>' + 'Total Populations: ' + temp['population'] + '<br>' + 'Population Below Poverty Line: ' + temp['population_below_poverty_line']\n",
    "# this is for the size part of the chart\n",
    "temp['pop_density_per_sq_mile'] = temp['pop_density_per_sq_mile'].astype(float)\n",
    "#states['text'] = states.apply(lambda x: (states['Donor State']+ '<br>' + \"Mean Donations:\" + states['Mean Donation Amount'] + '<br>' + \"Total Donors:\" + states['total_donors'] + \"<br\" + \"Total Donations:\" + states['Donation Amount']))\n",
    "#states.text = states.text.astype(str)\n",
    "temp['population'] = temp['population'].astype(float)\n",
    "trace0 = go.Scatter(\n",
    "    x=temp.GDP,\n",
    "    y=temp.population_below_poverty_line,\n",
    "    text = temp.text,\n",
    "    mode='markers',\n",
    "    #colorbar=dict(autotick=False, tickprefix='', title='Polulation<br>below<br>poverty<br>line'),\n",
    "    marker = {\n",
    "            'color': temp.population.tolist(),\n",
    "            #'colorscale':RdYlGn,\n",
    "            'colorbar' : dict(title = \"Population\"),\n",
    "            'size': (temp.pop_density_per_sq_mile/80).tolist(),\n",
    "            'showscale': True,\n",
    "            'line': dict(width =2, color ='black')\n",
    "        }\n",
    ")\n",
    "layout = go.Layout(\n",
    "    paper_bgcolor='rgb(243, 243, 200)',## asix and lebel background color\n",
    "    plot_bgcolor='rgb(243, 243, 200)', ## plot background color\n",
    "    title = \"Top 15 Populated Countries with Population Density and Population Below Poverty Line\",\n",
    "    height = 800,\n",
    "    xaxis = dict(\n",
    "        title = \"GDP Per Capita\"\n",
    "    ),\n",
    "    yaxis = dict(\n",
    "        title = \"Population Below Poverty Line\"\n",
    "    )\n",
    "\n",
    ")\n",
    "\n",
    "data = [trace0]\n",
    "fig = go.Figure(data = data, layout = layout)\n",
    "fig.show()"
   ]
  },
  {
   "cell_type": "markdown",
   "metadata": {
    "_uuid": "cf50ab839cffc1fa79f389add6cf3a9fbf00e8f1"
   },
   "source": [
    "This bubble chart is similar to the one before. The only exception is that I have replaced **population** to colorbar and added **GDP Per Capita** in the x-axis. Many countries are with less GDP Per Capita, and higher population below poverty line score and these are the once in need of support. Such countries are **Nigeria, Bangladesh and Ethiopia.**  Densely populated countries with less GDP Per Capita are also the one in need of loan assistance. For example, **Bangladesh** where **~10,500** people lives per square mile and to make things worse the GDP Per Capita is only **\\$1900**. I am curious about looking into more densely populated countries and updating more on this in coming up kernels."
   ]
  },
  {
   "cell_type": "markdown",
   "metadata": {
    "_uuid": "0efbdf34bbb9c742acf82b1c6090f82e46b2ff07"
   },
   "source": [
    "### <a id=\"6.9.6\">6.9.6 Top Most Funded Countries by KIVA</a>"
   ]
  },
  {
   "cell_type": "code",
   "execution_count": null,
   "metadata": {
    "_kg_hide-input": true,
    "_uuid": "c6bfa0c773b0eadb28c427fa62e35723542c6742"
   },
   "outputs": [],
   "source": [
    "## Getting info(population density, GDP, Population and population below poverty line) from country_stats dataframe. \n",
    "temp = country_stats[['kiva_country_name','pop_density_per_sq_mile',\"GDP\",'population','population_below_poverty_line']].sort_values(by = 'population', ascending = False)\n",
    "\n",
    "## Getting the top 15 funded countries and the funded amount according to Kiva_loans dataset. \n",
    "most = kiva_loans.groupby(['country'])['funded_amount'].sum().sort_values(ascending = False).reset_index().head(14)\n",
    "\n",
    "temp = temp.merge(most, how = 'inner',left_on='kiva_country_name', right_on='country' ).sort_values(by = 'funded_amount', ascending = False)\n",
    "temp.dropna(inplace=True)                                                                                  \n",
    "\n",
    "\n",
    "for col in temp.columns:\n",
    "    temp[col] = temp[col].astype(str)\n",
    "# writing the text column\n",
    "temp['text'] = temp['kiva_country_name'] +\"<br>\"+\"Funded Amount: \"+temp[\"funded_amount\"]+ '<br>' +\"GDP Per Capita: \"+temp[\"GDP\"]+\"<br>\"+'Population Density(per sq/ml): ' + temp['pop_density_per_sq_mile'] + '<br>' + 'Total Populations: ' + temp['population'] + '<br>' + 'Population Below Poverty Line: ' + temp['population_below_poverty_line']\n",
    "# this is for the size part of the chart\n",
    "temp['pop_density_per_sq_mile'] = temp['pop_density_per_sq_mile'].astype(float)\n",
    "#states['text'] = states.apply(lambda x: (states['Donor State']+ '<br>' + \"Mean Donations:\" + states['Mean Donation Amount'] + '<br>' + \"Total Donors:\" + states['total_donors'] + \"<br\" + \"Total Donations:\" + states['Donation Amount']))\n",
    "#states.text = states.text.astype(str)\n",
    "temp['funded_amount']  = temp['funded_amount'].astype(float)\n",
    "trace0 = go.Scatter(\n",
    "    x=temp.GDP,\n",
    "    y=temp.population_below_poverty_line,\n",
    "    text = temp.text,\n",
    "    mode='markers',\n",
    "    #colorbar=dict(autotick=False, tickprefix='', title='Polulation<br>below<br>poverty<br>line'),\n",
    "    marker = {\n",
    "            'color': temp.funded_amount.tolist(),\n",
    "            'colorscale':\"Greens\",\n",
    "            'reversescale': True,\n",
    "            'colorbar' : dict(title = \"Funded<br>Amount<br>\"),\n",
    "            'size': (temp.pop_density_per_sq_mile/40).tolist(),\n",
    "            'showscale': True, \n",
    "        'line': dict(width =2, color ='black')\n",
    "        }\n",
    ")\n",
    "layout = go.Layout(\n",
    "    title = \"Top Most Funded Countries by KIVA\",\n",
    "    height = 800,\n",
    "    xaxis = dict(\n",
    "        title = \"GDP Per Capita\"\n",
    "    ),\n",
    "    yaxis = dict(\n",
    "        title = \"Polulation Below Poverty Line\"\n",
    "    ),\n",
    "    paper_bgcolor='rgb(243, 243, 200)',\n",
    "    plot_bgcolor='rgb(243, 243, 200)',\n",
    "\n",
    ")\n",
    "\n",
    "data = [trace0]\n",
    "fig = go.Figure(data = data, layout = layout)\n",
    "fig.show()"
   ]
  },
  {
   "cell_type": "markdown",
   "metadata": {
    "_uuid": "2e945b5ea678d9f32d3d5928b103f84c95e7b224"
   },
   "source": [
    "This is a chart of top-funded countries by KIVA with their GDP per Capita, funded amount, population below poverty line and population density per square mile. Since this a KIVA related chart, we replaced **population** feature with **funded amount** on colorbar.\n",
    "\n",
    "It is safe to assume that most of the highly loan received countries would fall on the top left region of the chart since that is the spot of countries with least GDP per capita and higher population below poverty line rate. An excellent example for that country is **Kenya**, and as the color suggests, KIVA loaners have already been contributing a significant amount to this country. **Rwanda** is another country with high population below poverty line and low GDP per Capita. To make things even worse, it is one of the most densely populated countries in the world. It is good to see that KIVA is doing their part to help out the people of Rwanda. "
   ]
  },
  {
   "cell_type": "markdown",
   "metadata": {
    "_uuid": "8ec064e1fe3704134be6ff18ba8aaead7c2d5ce6"
   },
   "source": [
    "### <a id=\"6.9.7\">6.9.7 Top Least Funded Countries by KIVA</a>"
   ]
  },
  {
   "cell_type": "code",
   "execution_count": null,
   "metadata": {
    "_kg_hide-input": true,
    "_uuid": "ea54e3743ef318450fb3827eb13bf7d068ad2dd3"
   },
   "outputs": [],
   "source": [
    "## Getting info(population density, GDP, Population and population below poverty line) from country_stats dataframe. \n",
    "temp = country_stats[['kiva_country_name','pop_density_per_sq_mile',\"GDP\",'population','population_below_poverty_line']].sort_values(by = 'population', ascending = False)\n",
    "\n",
    "## Getting the top 15 funded countries and the funded amount according to Kiva_loans dataset. \n",
    "least = kiva_loans.groupby(['country'])['funded_amount'].sum().sort_values(ascending = False).reset_index().tail(20)\n",
    "\n",
    "temp = temp.merge(least, how = 'inner',left_on='kiva_country_name', right_on='country' ).sort_values(by = 'funded_amount', ascending = False)\n",
    "                                                                                            \n",
    "\n",
    "\n",
    "for col in temp.columns:\n",
    "    temp[col] = temp[col].astype(str)\n",
    "# writing the text column\n",
    "temp['text'] = temp['kiva_country_name'] +\"<br>\"+\"Funded Amount: \"+temp[\"funded_amount\"]+ '<br>' +\"GDP Per Capita: \"+temp[\"GDP\"]+\"<br>\"+'Population Density(per sq/ml): ' + temp['pop_density_per_sq_mile'] + '<br>' + 'Total Populations: ' + temp['population'] + '<br>' + 'Population Below Poverty Line: ' + temp['population_below_poverty_line']\n",
    "# this is for the size part of the chart\n",
    "temp['pop_density_per_sq_mile'] = temp['pop_density_per_sq_mile'].astype(float)\n",
    "#states['text'] = states.apply(lambda x: (states['Donor State']+ '<br>' + \"Mean Donations:\" + states['Mean Donation Amount'] + '<br>' + \"Total Donors:\" + states['total_donors'] + \"<br\" + \"Total Donations:\" + states['Donation Amount']))\n",
    "#states.text = states.text.astype(str)\n",
    "temp['funded_amount'] = temp['funded_amount'].astype(float)\n",
    "temp.dropna(inplace = True)\n",
    "trace0 = go.Scatter(\n",
    "    x=temp.GDP,\n",
    "    y=temp.population_below_poverty_line,\n",
    "    text = temp.text,\n",
    "    mode='markers',\n",
    "    #colorbar=dict(autotick=False, tickprefix='', title='Polulation<br>below<br>poverty<br>line'),\n",
    "    marker = {\n",
    "            'color': temp.funded_amount.tolist(),\n",
    "            'colorscale':\"Greens\",\n",
    "            'reversescale': True,\n",
    "            'colorbar' : dict(title = \"Funded<br>Amount<br>\"),\n",
    "            'size': (temp.pop_density_per_sq_mile/40).tolist(),\n",
    "            'showscale': True, \n",
    "        'line': dict(width =2, color ='black')\n",
    "        }\n",
    ")\n",
    "layout = go.Layout(\n",
    "    title = \"Least Funded Countries by KIVA\",\n",
    "    height = 800,\n",
    "    xaxis = dict(\n",
    "        title = \"GDP Per Capita\"\n",
    "    ),\n",
    "    yaxis = dict(\n",
    "        title = \"Polulation Below Poverty Line\"\n",
    "    ),\n",
    "    paper_bgcolor='rgb(243, 243, 200)',\n",
    "    plot_bgcolor='rgb(243, 243, 200)',\n",
    "\n",
    ")\n",
    "\n",
    "data = [trace0]\n",
    "fig = go.Figure(data = data, layout = layout)\n",
    "fig.show()"
   ]
  },
  {
   "cell_type": "markdown",
   "metadata": {
    "_uuid": "d1be965bfa7c8601b8c30e441b6d8f69eb41cece"
   },
   "source": [
    "### <a id=\"6.9.8\">6.9.8 All Countries Funded by KIVA</a>"
   ]
  },
  {
   "cell_type": "code",
   "execution_count": null,
   "metadata": {
    "_kg_hide-input": true,
    "_uuid": "edf5f80d089712e96f130bd7e504c37eb17f729b",
    "scrolled": false
   },
   "outputs": [],
   "source": [
    "## Getting info(population density, GDP, Population and population below poverty line) from country_stats dataframe. \n",
    "temp = country_stats[['kiva_country_name','pop_density_per_sq_mile',\"GDP\",'population','population_below_poverty_line']].sort_values(by = 'population', ascending = False)\n",
    "\n",
    "## Getting the top 15 funded countries and the funded amount according to Kiva_loans dataset. \n",
    "most = kiva_loans.groupby(['country'])['funded_amount'].sum().sort_values(ascending = False).reset_index()\n",
    "\n",
    "temp = temp.merge(most, how = 'inner',left_on='kiva_country_name', right_on='country' ).sort_values(by = 'funded_amount', ascending = False)\n",
    "                                                                                     \n",
    "\n",
    "for col in temp.columns:\n",
    "    temp[col] = temp[col].astype(str)\n",
    "# writing the text column\n",
    "temp['text'] = temp['kiva_country_name'] +\"<br>\"+\"Funded Amount: \"+temp[\"funded_amount\"]+ '<br>' +\"GDP Per Capita: \"+temp[\"GDP\"]+\"<br>\"+'Population Density(per sq/ml): ' + temp['pop_density_per_sq_mile'] + '<br>' + 'Total Populations: ' + temp['population'] + '<br>' + 'Population Below Poverty Line: ' + temp['population_below_poverty_line']\n",
    "# this is for the size part of the chart\n",
    "temp['pop_density_per_sq_mile'] = temp['pop_density_per_sq_mile'].astype(float)\n",
    "#states['text'] = states.apply(lambda x: (states['Donor State']+ '<br>' + \"Mean Donations:\" + states['Mean Donation Amount'] + '<br>' + \"Total Donors:\" + states['total_donors'] + \"<br\" + \"Total Donations:\" + states['Donation Amount']))\n",
    "#states.text = states.text.astype(str)\n",
    "temp['funded_amount'] = temp['funded_amount'].astype(float)\n",
    "temp.dropna(inplace = True)    \n",
    "\n",
    "\n",
    "trace0 = go.Scatter(\n",
    "    x=temp.GDP,\n",
    "    y=temp.population_below_poverty_line,\n",
    "    text = temp.text,\n",
    "    mode='markers',\n",
    "    #colorbar=dict(autotick=False, tickprefix='', title='Polulation<br>below<br>poverty<br>line'),\n",
    "    marker = {\n",
    "            'color': temp.funded_amount.tolist(),\n",
    "            'colorscale':\"Greens\",\n",
    "            'reversescale': True,\n",
    "            'colorbar' : dict(title = \"Funded<br>Amount<br>\"),\n",
    "            'size': (temp.pop_density_per_sq_mile/40).tolist(),\n",
    "            'showscale': True,\n",
    "            'line': dict(width = 2, color = 'black')\n",
    "        }\n",
    ")\n",
    "layout = go.Layout(\n",
    "    paper_bgcolor='rgb(243, 243, 243)',\n",
    "    plot_bgcolor='rgb(243, 243, 243)',\n",
    "    title = \"Countries Funded by KIVA\",\n",
    "    height = 800,\n",
    "    xaxis = dict(\n",
    "        title = \"GDP Per Capita\",\n",
    "        gridcolor='rgb(255, 255, 255)',\n",
    "        type = 'log',\n",
    "        ticklen = 5,\n",
    "        gridwidth =2,\n",
    "    ),\n",
    "    yaxis = dict(\n",
    "        title = \"Polulation Below Poverty Line\",\n",
    "        gridcolor='rgb(255, 255, 255)',\n",
    "        ticklen = 5, \n",
    "        gridwidth =2,\n",
    "    )\n",
    "\n",
    ")\n",
    "\n",
    "data = [trace0]\n",
    "fig = go.Figure(data = data, layout = layout)\n",
    "fig.show()"
   ]
  },
  {
   "cell_type": "markdown",
   "metadata": {
    "_uuid": "2618fcde6608b80bbb0789dbd7ee26fb3e71bb82"
   },
   "source": [
    "This chart above is presumably a better one to look at and to read. The chart shows all the countries that KIVA has donated and uses *log* type so that we can see the data spread out. It is essential to use x-ticks to understand the distance between points(countries) rather than just looking at the points(countries) itself. Here the **size still represents population density** since density has a better implication of distinguishing a country's prosperity than population. \n",
    "\n"
   ]
  },
  {
   "cell_type": "markdown",
   "metadata": {
    "_kg_hide-input": true,
    "_uuid": "d438df14a7ffd6e5fdef0bb5c0e8a5f9ede38ef7"
   },
   "source": [
    "### <a id=\"6.9.9\">6.9.9 Countries Funded by KIVA </a>"
   ]
  },
  {
   "cell_type": "code",
   "execution_count": null,
   "metadata": {
    "_kg_hide-input": true,
    "_uuid": "e5422c2e51dcc7f1da3fed18fffc9f1c362a6eaa"
   },
   "outputs": [],
   "source": [
    "import math\n",
    "## Getting info(population density, GDP, Population and population below poverty line) from country_stats dataframe. \n",
    "temp = country_stats[['kiva_country_name','continent','pop_density_per_sq_mile',\"GDP\",'population','population_below_poverty_line']].sort_values(by = 'population', ascending = False)\n",
    "\n",
    "## Getting the top 15 funded countries and the funded amount according to Kiva_loans dataset. \n",
    "most = kiva_loans.groupby(['country'])['funded_amount'].sum().sort_values(ascending = False).reset_index()\n",
    "\n",
    "## merging funded amount with temp dataframe. \n",
    "temp = temp.merge(most, how = 'inner',left_on='kiva_country_name', right_on='country' ).sort_values(by = 'funded_amount', ascending = False)\n",
    "temp = temp.sort_values(['continent', 'kiva_country_name'])\n",
    "\n",
    "slope = 2.666051223553066e-05\n",
    "hover_text = []\n",
    "bubble_size = []\n",
    "\n",
    "for index, row in temp.iterrows():\n",
    "    hover_text.append(('Country: {kiva_country_name}<br>'+\n",
    "                      'Funded Amount: {funded_amount}<br>'+\n",
    "                      'GDP per capita: {GDP}<br>'+\n",
    "                      'Population: {population}<br>'+\n",
    "                      'Population Density: {pop_density_per_sq_mile}').format(kiva_country_name=row['kiva_country_name'],\n",
    "                                            funded_amount=row['funded_amount'],\n",
    "                                            GDP=row['GDP'],\n",
    "                                            population=row['population'],\n",
    "                                            pop_density_per_sq_mile=row['pop_density_per_sq_mile']))\n",
    "    bubble_size.append(math.sqrt(row['population']*slope))\n",
    "\n",
    "temp['text'] = hover_text\n",
    "temp['size'] = bubble_size\n",
    "sizeref = 2.*max(temp['size'])/(100**2)\n",
    "\n",
    "trace0 = go.Scatter(\n",
    "    x=temp['GDP'][temp['continent'] == 'Africa'],\n",
    "    y=temp['funded_amount'][temp['continent'] == 'Africa'],\n",
    "    mode='markers',\n",
    "    name='Africa',\n",
    "    text=temp['text'][temp['continent'] == 'Africa'],\n",
    "    marker=dict(\n",
    "        symbol='circle',\n",
    "        sizemode='area',\n",
    "        sizeref=sizeref,\n",
    "        size=temp['size'][temp['continent'] == 'Africa'],\n",
    "        line=dict(\n",
    "            width=2\n",
    "        ),\n",
    "    )\n",
    ")\n",
    "trace1 = go.Scatter(\n",
    "    x=temp['GDP'][temp['continent'] == 'Americas'],\n",
    "    y=temp['funded_amount'][temp['continent'] == 'Americas'],\n",
    "    mode='markers',\n",
    "    name='Americas',\n",
    "    text=temp['text'][temp['continent'] == 'Americas'],\n",
    "    marker=dict(\n",
    "        symbol='circle',\n",
    "        sizemode='area',\n",
    "        sizeref=sizeref,\n",
    "        size=temp['size'][temp['continent'] == 'Americas'],\n",
    "        line=dict(\n",
    "            width=2\n",
    "        ),\n",
    "    )\n",
    ")\n",
    "trace2 = go.Scatter(\n",
    "    x=temp['GDP'][temp['continent'] == 'Asia'],\n",
    "    y=temp['funded_amount'][temp['continent'] == 'Asia'],\n",
    "    mode='markers',\n",
    "    name='Asia',\n",
    "    text=temp['text'][temp['continent'] == 'Asia'],\n",
    "    marker=dict(\n",
    "        symbol='circle',\n",
    "        sizemode='area',\n",
    "        sizeref=sizeref,\n",
    "        size=temp['size'][temp['continent'] == 'Asia'],\n",
    "        line=dict(\n",
    "            width=2\n",
    "        ),\n",
    "    )\n",
    ")\n",
    "trace3 = go.Scatter(\n",
    "    x=temp['GDP'][temp['continent'] == 'Europe'],\n",
    "    y=temp['funded_amount'][temp['continent'] == 'Europe'],\n",
    "    mode='markers',\n",
    "    name='Europe',\n",
    "    text=temp['text'][temp['continent'] == 'Europe'],\n",
    "    marker=dict(\n",
    "        symbol='circle',\n",
    "        sizemode='area',\n",
    "        sizeref=sizeref,\n",
    "        size=temp['size'][temp['continent'] == 'Europe'],\n",
    "        line=dict(\n",
    "            width=2\n",
    "        ),\n",
    "    )\n",
    ")\n",
    "trace4 = go.Scatter(\n",
    "    x=temp['GDP'][temp['continent'] == 'Oceania'],\n",
    "    y=temp['funded_amount'][temp['continent'] == 'Oceania'],\n",
    "    mode='markers',\n",
    "    name='Oceania',\n",
    "    text=temp['text'][temp['continent'] == 'Oceania'],\n",
    "    marker=dict(\n",
    "        symbol='circle',\n",
    "        sizemode='area',\n",
    "        sizeref=sizeref,\n",
    "        size=temp['size'][temp['continent'] == 'Oceania'],\n",
    "        line=dict(\n",
    "            width=2\n",
    "        ),\n",
    "    )\n",
    ")\n",
    "\n",
    "data = [trace0, trace1, trace2, trace3, trace4]\n",
    "layout = go.Layout(\n",
    "    title='Funded Amount v. GDP Per Capita',\n",
    "    xaxis=dict(\n",
    "        title='GDP per capita',\n",
    "        gridcolor='rgb(255, 255, 255)',\n",
    "        #range=[2.003297660701705, 5.191505530708712],\n",
    "        type='log', ## spreads the points throughout the plot using log in the axis\n",
    "        zerolinewidth=1,\n",
    "        ticklen=5,\n",
    "        gridwidth=2,\n",
    "    ),\n",
    "    yaxis=dict(\n",
    "        title='Funded Amount',\n",
    "        gridcolor='rgb(255, 255, 255)',\n",
    "        #range=[36.12621671352166, 91.72921793264332],\n",
    "        zerolinewidth=1,\n",
    "        ticklen=5,\n",
    "        gridwidth=2,\n",
    "    ),\n",
    "    paper_bgcolor='rgb(243, 243, 243)',\n",
    "    plot_bgcolor='rgb(243, 243, 243)',\n",
    ")\n",
    "\n",
    "fig = go.Figure(data=data, layout=layout)\n",
    "fig.show()"
   ]
  },
  {
   "cell_type": "markdown",
   "metadata": {
    "_uuid": "ebbf20c3a7cf2b987e132578a0278d2e0484fccb"
   },
   "source": [
    "This is yet another interesting bubble chart and it shows the distinction of GDP Per Capita among countries and this time it is color coted according to continants. As we use this interective visualization above we realize that countries in American continents are much more better off than Asia or Africa. We can click in the level(continent) names to compare and contrust amoug particular continents. "
   ]
  },
  {
   "cell_type": "markdown",
   "metadata": {
    "_uuid": "4fc95ea8b4ce5583d1fe938743d5e53f520816fc"
   },
   "source": [
    "## <a id=\"6.10\">6.10 Human Development Index(HDI)</a>"
   ]
  },
  {
   "cell_type": "markdown",
   "metadata": {
    "_uuid": "0b670a08fc5b038797db5293697085fe7f935786"
   },
   "source": [
    "The HDI was created to emphasize that people and their capabilities should be the ultimate criteria for assessing the development of a country, not economic growth alone. The HDI can also be used to question national policy choices, asking how two countries with the same level of GNI per capita can end up with different human development outcomes. These contrasts can stimulate debate about government policy priorities.\n",
    "                                                                                                                            The Human Development Index (HDI) is a summary measure of average achievement in key dimensions of human development: a long and healthy life, being knowledgeable and have a decent standard of living. The HDI is the geometric mean of normalized indices for each of the three dimensions.\n",
    "\n",
    "The health dimension is assessed by life expectancy at birth, the education dimension is measured by mean of years of schooling for adults aged 25 years and more and expected years of schooling for children of school entering age. The standard of living dimension is measured by gross national income per capita. The HDI uses the logarithm of income, to reflect the diminishing importance of income with increasing GNI. The scores for the three HDI dimension indices are then aggregated into a composite index using geometric mean. Refer to Technical notes for more details.\n",
    "\n",
    "The HDI simplifies and captures only part of what human development entails. It does not reflect on inequalities, poverty, human security, empowerment, etc. The HDRO offers the other composite indices as broader proxy on some of the key issues of human development, inequality, gender disparity and poverty.\n",
    "\n",
    "A fuller picture of a country's level of human development requires analysis of other indicators and information presented in the statistical annex of the report.\n",
    "![image](http://hdr.undp.org/sites/default/files/hdi.png)"
   ]
  },
  {
   "cell_type": "code",
   "execution_count": null,
   "metadata": {
    "_cell_guid": "ce57875a-08c4-46a7-a54c-6524b4edbe7f",
    "_kg_hide-input": true,
    "_uuid": "6f0a13bacec85eb0284bbc5ea3ae56cd361aba1d"
   },
   "outputs": [],
   "source": [
    "country_stats['education_index'] = ((country_stats.expected_years_of_schooling+country_stats.mean_years_of_schooling)/2)\n",
    "\n",
    "country_stats.dropna(inplace=True)\n",
    "data = [dict(\n",
    "        x = country_stats.life_expectancy.tolist(),\n",
    "        y = country_stats.population_below_poverty_line.tolist(),\n",
    "        mode = 'markers',\n",
    "        text = country_stats.country_name,\n",
    "        marker = {\n",
    "            'color': country_stats.population.tolist(),\n",
    "            'colorscale':\"Viridis\",\n",
    "            'size': (country_stats.hdi*30).tolist(),\n",
    "            'showscale': True\n",
    "        })]\n",
    "    \n",
    "layout = go.Layout(\n",
    "    title = \"Human Development Index(HDI), Education Index(EI), Income Index(GNI) and Life Expectancy Index(LEI)\",\n",
    "    height = 1200,\n",
    "    xaxis = dict(\n",
    "        title = \"Life Expectency\"\n",
    "    ),\n",
    "    yaxis = dict(\n",
    "        title = \"GNI Index\"\n",
    "    )\n",
    "\n",
    ")\n",
    "\n",
    "fig = go.Figure(data = data, layout = layout)\n",
    "fig.show()"
   ]
  },
  {
   "cell_type": "markdown",
   "metadata": {},
   "source": [
    "# Male-Female Ratio"
   ]
  },
  {
   "cell_type": "code",
   "execution_count": null,
   "metadata": {
    "_kg_hide-input": true
   },
   "outputs": [],
   "source": [
    "temp = pd.DataFrame(kiva_loans.borrower_genders.dropna().str.split(\",\").tolist()).stack().value_counts().reset_index()\n",
    "temp.rename(columns={'index':'gender', 0:'total'}, inplace=True)\n",
    "temp.gender = temp.gender.apply(lambda x: x.strip())\n",
    "temp = temp.groupby(['gender'])['total'].sum().reset_index()\n",
    "\n",
    "labels = temp.gender\n",
    "values = temp.total\n",
    "colors = ['#FEBFB3', '#E1396C', '#96D38C', '#D0F9B1']\n",
    "\n",
    "data = go.Pie(labels=labels, values=values,\n",
    "               hoverinfo='label+percent', textinfo='percent',\n",
    "               textfont=dict(size=20),\n",
    "               marker=dict(colors=colors,\n",
    "                           line=dict(color='#000000', width=2)))\n",
    "layout = go.Layout(\n",
    "    title = \"Pie Chart for Repayment Interval\",\n",
    ")\n",
    "\n",
    "fig = go.Figure(data = [data], layout = layout)\n",
    "fig.show()"
   ]
  },
  {
   "cell_type": "markdown",
   "metadata": {},
   "source": [
    "<div class=\"alert alert-info\">\n",
    "<h4>If you like to discuss any other projects or just have a chat about data science topics, I'll be more than happy to connect with you on:</h4>\n",
    "    <ul>\n",
    "        <li><a href=\"https://www.linkedin.com/in/masumrumi/\"><b>LinkedIn</b></a></li>\n",
    "        <li><a href=\"https://github.com/masumrumi\"><b>Github</b></a></li>\n",
    "        <li><a href=\"http://masumrumi.com/\"><b>masumrumi.com</b></a></li>\n",
    "    </ul>\n",
    "\n",
    "<p>This kernel will always be a work in progress. I will incorporate new concepts of data science as I comprehend them with each update. If you have any idea/suggestions about this notebook, please let me know. Any feedback about further improvements would be genuinely appreciated.</p>\n",
    "\n",
    "<h1>If you have come this far, Congratulations!!</h1>\n",
    "\n",
    "<h1>If this notebook helped you in any way or you liked it, please upvote and/or leave a comment!! :)</h1></div>"
   ]
  }
 ],
 "metadata": {
  "kernelspec": {
   "display_name": "Python 3",
   "language": "python",
   "name": "python3"
  },
  "language_info": {
   "codemirror_mode": {
    "name": "ipython",
    "version": 3
   },
   "file_extension": ".py",
   "mimetype": "text/x-python",
   "name": "python",
   "nbconvert_exporter": "python",
   "pygments_lexer": "ipython3",
   "version": "3.7.3"
  }
 },
 "nbformat": 4,
 "nbformat_minor": 4
}
